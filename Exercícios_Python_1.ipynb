{
  "nbformat": 4,
  "nbformat_minor": 0,
  "metadata": {
    "colab": {
      "provenance": [],
      "include_colab_link": true
    },
    "kernelspec": {
      "display_name": "Python 3",
      "language": "python",
      "name": "python3"
    },
    "language_info": {
      "codemirror_mode": {
        "name": "ipython",
        "version": 3
      },
      "file_extension": ".py",
      "mimetype": "text/x-python",
      "name": "python",
      "nbconvert_exporter": "python",
      "pygments_lexer": "ipython3",
      "version": "3.8.5"
    },
    "gpuClass": "standard"
  },
  "cells": [
    {
      "cell_type": "markdown",
      "metadata": {
        "id": "view-in-github",
        "colab_type": "text"
      },
      "source": [
        "<a href=\"https://colab.research.google.com/github/han-s0l0/han-s0l0/blob/main/Exerc%C3%ADcios_Python_1.ipynb\" target=\"_parent\"><img src=\"https://colab.research.google.com/assets/colab-badge.svg\" alt=\"Open In Colab\"/></a>"
      ]
    },
    {
      "cell_type": "markdown",
      "metadata": {
        "id": "sWRRG0wCBgCV"
      },
      "source": [
        "**EXERCÍCIOS BÁSICOS - PYTHON** "
      ]
    },
    {
      "cell_type": "markdown",
      "metadata": {
        "id": "QIrt1gG_ipRS"
      },
      "source": [
        "**1) Faça um programa que recebe dois números inteiros e imprime a soma desses dois números na tela.**"
      ]
    },
    {
      "cell_type": "code",
      "metadata": {
        "id": "QGi8P0DclL1w",
        "colab": {
          "base_uri": "https://localhost:8080/"
        },
        "outputId": "f99ed480-b6de-4591-eb8e-eb92c2ea5ecb"
      },
      "source": [
        "i = 1\n",
        "\n",
        "while i > 0:\n",
        "  if i == 1:\n",
        "    N1 = input(\"Digite o primeiro número inteiro: \")\n",
        "    if N1.isnumeric() == False:\n",
        "      print(\"Digite apenas números inteiros!\")\n",
        "\n",
        "    else:\n",
        "      i = 2\n",
        "  else:\n",
        "    N2 = input(\"Digite o segundo número inteiro: \")\n",
        "    if N2.isnumeric() == False:\n",
        "      print(\"Digite apenas números inteiros!\")\n",
        "    else:\n",
        "      Soma = int(N1) + int(N2)\n",
        "      print(\"O resultado da soma é: \", Soma)\n",
        "      i = 0\n"
      ],
      "execution_count": null,
      "outputs": [
        {
          "output_type": "stream",
          "name": "stdout",
          "text": [
            "Digite o primeiro número inteiro: 1.0\n",
            "Digite apenas números inteiros!\n",
            "Digite o primeiro número inteiro: 1,2\n",
            "Digite apenas números inteiros!\n",
            "Digite o primeiro número inteiro: g\n",
            "Digite apenas números inteiros!\n",
            "Digite o primeiro número inteiro: &\n",
            "Digite apenas números inteiros!\n",
            "Digite o primeiro número inteiro: 5\n",
            "Digite o segundo número inteiro: 1.0\n",
            "Digite apenas números inteiros!\n",
            "Digite o segundo número inteiro: 1,5\n",
            "Digite apenas números inteiros!\n",
            "Digite o segundo número inteiro: y\n",
            "Digite apenas números inteiros!\n",
            "Digite o segundo número inteiro: (\n",
            "Digite apenas números inteiros!\n",
            "Digite o segundo número inteiro: 5\n",
            "O resultado da soma é:  10\n"
          ]
        }
      ]
    },
    {
      "cell_type": "markdown",
      "metadata": {
        "id": "3OREZ3HBi7W3"
      },
      "source": [
        "**2) Escreva um programa que leia um valor em metros e o exiba convertido em milímetros.**"
      ]
    },
    {
      "cell_type": "code",
      "metadata": {
        "id": "4D5-dn2YBgCY",
        "colab": {
          "base_uri": "https://localhost:8080/"
        },
        "outputId": "0e4c6d2d-a06b-4657-f0ff-7719ef31134e"
      },
      "source": [
        "i= 1\n",
        "\n",
        "while i == 1:\n",
        "  metro = input(\"Insira o valor em metros: \")\n",
        "  if \",\" in metro:\n",
        "    metros = metro.replace(\",\", \".\")\n",
        "    convert = float(metros) * 0.001\n",
        "    i = 0\n",
        "  else:\n",
        "    convert = float(metro) * 0.001\n",
        "    i = 0\n",
        "\n",
        "  print(f\"Resultado: {convert:.8f}\")"
      ],
      "execution_count": null,
      "outputs": [
        {
          "output_type": "stream",
          "name": "stdout",
          "text": [
            "Insira o valor em metros: 2,8\n",
            "Resultado: 0.00280000\n"
          ]
        }
      ]
    },
    {
      "cell_type": "markdown",
      "metadata": {
        "id": "13eMx7CSBgCZ"
      },
      "source": [
        "**3) Escreva um programa que leia a quantidade de dias, horas, minutos e segundos do usuário.\n",
        "Calcule o total em segundos e exiba o resultado na tela.**"
      ]
    },
    {
      "cell_type": "code",
      "metadata": {
        "id": "nVtRpjCNBgCZ",
        "colab": {
          "base_uri": "https://localhost:8080/"
        },
        "outputId": "0aee6024-06ef-4764-c9c4-881fa7c00f19"
      },
      "source": [
        "dias = int(input(\"Insira quantidade de dias: \"))\n",
        "horas = int(input(\"Insira quantidade de horas: \"))\n",
        "minutos = int(input(\"Insira quantidade de minutos: \"))\n",
        "segundos = int(input(\"Insira quantidade de segundos: \"))\n",
        "Dias = dias * 86400 \n",
        "Horas = horas * 3600\n",
        "Minutos = minutos * 60\n",
        "totalSeg = Dias + Horas + Minutos + segundos\n",
        "print(\"Resultado em segundos: \", int(totalSeg))"
      ],
      "execution_count": null,
      "outputs": [
        {
          "output_type": "stream",
          "name": "stdout",
          "text": [
            "Insira quantidade de dias: 5\n",
            "Insira quantidade de horas: 9\n",
            "Insira quantidade de minutos: 8\n",
            "Insira quantidade de segundos: 27\n",
            "Resultado em segundos:  464907\n"
          ]
        }
      ]
    },
    {
      "cell_type": "markdown",
      "metadata": {
        "id": "vRyzR-WzBgCZ"
      },
      "source": [
        "**4) Faça um programa que calcule o aumento de um salário.\n",
        "Ele deve receber o valor do salário e o percentual do aumento digitados pelo usuário.\n",
        "Exiba o valor do aumento e o novo salário.**"
      ]
    },
    {
      "cell_type": "code",
      "metadata": {
        "id": "Miuh2BtWBgCa",
        "colab": {
          "base_uri": "https://localhost:8080/"
        },
        "outputId": "5dec4223-e7bf-4ea7-e937-a07cf31363c4"
      },
      "source": [
        "salarioAtual = float(input(\"Digite seu salário: R$\"))\n",
        "aumento = float(input(\"Digite o percentual do aumento: %\"))\n",
        "valor = salarioAtual * aumento / 100\n",
        "salario = salarioAtual + valor \n",
        "print(f\"Valor do aumento: R${valor:.2f}\")\n",
        "print(f\"Seu salário será: R${salario:.2f}\")\n"
      ],
      "execution_count": 20,
      "outputs": [
        {
          "output_type": "stream",
          "name": "stdout",
          "text": [
            "Digite seu salário: R$1000\n",
            "Digite o percentual do aumento: %10\n",
            "Valor do aumento: R$100.00\n",
            "Seu salário será: R$1100.00\n"
          ]
        }
      ]
    },
    {
      "cell_type": "markdown",
      "metadata": {
        "id": "bGuQ-kB0BgCa"
      },
      "source": [
        "**5) Faça um programa que solicite o preço de uma mercadoria e o percentual de desconto.\n",
        "Exiba o valor do desconto e o preço a pagar na tela.**"
      ]
    },
    {
      "cell_type": "code",
      "metadata": {
        "id": "HpgQhhbLBgCb",
        "colab": {
          "base_uri": "https://localhost:8080/"
        },
        "outputId": "3f892370-5678-4515-e748-cb0ad2c30d35"
      },
      "source": [
        "preço = float(input(\"Digite o preço do produto: R$\"))\n",
        "desconto = float(input(\"Digite a porcentagem de desconto: %\"))\n",
        "valor = preço * desconto / 100\n",
        "pague = preço - valor\n",
        "print(f\"Valor do desconto: R${valor:.2f}\")\n",
        "print(f\"Total a pagar: R${pague:.2f}\")"
      ],
      "execution_count": 21,
      "outputs": [
        {
          "output_type": "stream",
          "name": "stdout",
          "text": [
            "Digite o preço do produto: R$15\n",
            "Digite a porcentagem de desconto: %5\n",
            "Valor do desconto: R$0.75\n",
            "Total a pagar: R$14.25\n"
          ]
        }
      ]
    },
    {
      "cell_type": "markdown",
      "metadata": {
        "id": "lrSanUXiBgCb"
      },
      "source": [
        "**6) Escreva um programa que pergunte a quantidade de KM percorridos por um carro alugado pelo usuário,\n",
        "assim como a quantidade de dias pelos quais o carro foi alugado.\n",
        "Calcule o preço a pagar, sabendo que o carro custa 60 BRL por dia e 0,15 BRL por KM rodado.**"
      ]
    },
    {
      "cell_type": "code",
      "metadata": {
        "id": "psqp-F_FBgCb",
        "colab": {
          "base_uri": "https://localhost:8080/"
        },
        "outputId": "ca336e13-63e4-4351-93cf-885a5193ff6a"
      },
      "source": [
        "km = float(input(\"Quantos quilômetros foram percorridos? \"))\n",
        "dias = int(input(\"Por quantos dias o veículo foi alugado? \"))\n",
        "ttDias = dias * 60\n",
        "ttKM = km * 0.15\n",
        "tt = ttDias + ttKM\n",
        "print(f\"O valor total a ser pago é de R${tt:.2f}\")"
      ],
      "execution_count": 22,
      "outputs": [
        {
          "output_type": "stream",
          "name": "stdout",
          "text": [
            "Quantos quilômetros foram percorridos? 150\n",
            "Por quantos dias o veículo foi alugado? 7\n",
            "O valor total a ser pago é de R$442.50\n"
          ]
        }
      ]
    }
  ]
}